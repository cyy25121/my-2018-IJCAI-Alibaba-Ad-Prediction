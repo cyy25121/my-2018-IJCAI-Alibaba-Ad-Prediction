{
 "cells": [
  {
   "cell_type": "markdown",
   "metadata": {
    "toc": "true"
   },
   "source": [
    "# Table of Contents\n",
    " <p><div class=\"lev1 toc-item\"><a href=\"#Data-Import\" data-toc-modified-id=\"Data-Import-1\"><span class=\"toc-item-num\">1&nbsp;&nbsp;</span>Data Import</a></div><div class=\"lev1 toc-item\"><a href=\"#Data-Cleaning\" data-toc-modified-id=\"Data-Cleaning-2\"><span class=\"toc-item-num\">2&nbsp;&nbsp;</span>Data Cleaning</a></div><div class=\"lev2 toc-item\"><a href=\"#Drop-irrelevant-features\" data-toc-modified-id=\"Drop-irrelevant-features-21\"><span class=\"toc-item-num\">2.1&nbsp;&nbsp;</span>Drop irrelevant features</a></div><div class=\"lev2 toc-item\"><a href=\"#Re-formatted-features\" data-toc-modified-id=\"Re-formatted-features-22\"><span class=\"toc-item-num\">2.2&nbsp;&nbsp;</span>Re-formatted features</a></div><div class=\"lev2 toc-item\"><a href=\"#Missing-Value\" data-toc-modified-id=\"Missing-Value-23\"><span class=\"toc-item-num\">2.3&nbsp;&nbsp;</span>Missing Value</a></div><div class=\"lev2 toc-item\"><a href=\"#Data-Types-in-Pandas\" data-toc-modified-id=\"Data-Types-in-Pandas-24\"><span class=\"toc-item-num\">2.4&nbsp;&nbsp;</span>Data Types in Pandas</a></div><div class=\"lev1 toc-item\"><a href=\"#Categorical-vairable\" data-toc-modified-id=\"Categorical-vairable-3\"><span class=\"toc-item-num\">3&nbsp;&nbsp;</span>Categorical vairable</a></div><div class=\"lev2 toc-item\"><a href=\"#Categorical-variable-encoding\" data-toc-modified-id=\"Categorical-variable-encoding-31\"><span class=\"toc-item-num\">3.1&nbsp;&nbsp;</span>Categorical variable encoding</a></div><div class=\"lev3 toc-item\"><a href=\"#Label-encoding\" data-toc-modified-id=\"Label-encoding-311\"><span class=\"toc-item-num\">3.1.1&nbsp;&nbsp;</span>Label encoding</a></div><div class=\"lev3 toc-item\"><a href=\"#One-hot-encoding\" data-toc-modified-id=\"One-hot-encoding-312\"><span class=\"toc-item-num\">3.1.2&nbsp;&nbsp;</span>One-hot encoding</a></div><div class=\"lev1 toc-item\"><a href=\"#Numerical-variable\" data-toc-modified-id=\"Numerical-variable-4\"><span class=\"toc-item-num\">4&nbsp;&nbsp;</span>Numerical variable</a></div><div class=\"lev1 toc-item\"><a href=\"#Output-file\" data-toc-modified-id=\"Output-file-5\"><span class=\"toc-item-num\">5&nbsp;&nbsp;</span>Output file</a></div>"
   ]
  },
  {
   "cell_type": "code",
   "execution_count": 1,
   "metadata": {
    "ExecuteTime": {
     "end_time": "2018-03-28T10:36:09.634233Z",
     "start_time": "2018-03-28T10:36:08.460876Z"
    },
    "collapsed": true
   },
   "outputs": [],
   "source": [
    "# import libraries\n",
    "import numpy as np\n",
    "import pandas as pd\n",
    "import matplotlib.pyplot as plt\n",
    "from datetime import datetime\n",
    "from sklearn.preprocessing import OneHotEncoder\n",
    "from sklearn.preprocessing import LabelEncoder\n",
    "import matplotlib.pyplot as plt\n",
    "import seaborn as sns\n",
    "from dateutil import tz\n",
    "sns.set(color_codes=True)"
   ]
  },
  {
   "cell_type": "markdown",
   "metadata": {},
   "source": [
    "# Data Import"
   ]
  },
  {
   "cell_type": "code",
   "execution_count": 2,
   "metadata": {
    "ExecuteTime": {
     "end_time": "2018-03-28T10:36:19.322228Z",
     "start_time": "2018-03-28T10:36:09.639781Z"
    }
   },
   "outputs": [
    {
     "name": "stdout",
     "output_type": "stream",
     "text": [
      "The shape of training_set:  (478138, 27)\n",
      "The shape of testing_set:  (18371, 26)\n"
     ]
    }
   ],
   "source": [
    "# load dataset\n",
    "train_file = 'Dataset/round1_ijcai_18_train_20180301.txt'\n",
    "test_file = 'Dataset/round1_ijcai_18_test_a_20180301.txt'\n",
    "\n",
    "df_train = pd.read_csv(train_file, delim_whitespace=True, header=0)\n",
    "df_test = pd.read_csv(test_file, delim_whitespace=True, header=0)\n",
    "\n",
    "print(\"The shape of training_set: \", df_train.shape)\n",
    "print(\"The shape of testing_set: \", df_test.shape)"
   ]
  },
  {
   "cell_type": "markdown",
   "metadata": {},
   "source": [
    "* Training set共有47萬筆資料，26個features，1個label\n",
    "* Test set共有1萬8千筆資料，26個features"
   ]
  },
  {
   "cell_type": "code",
   "execution_count": 3,
   "metadata": {
    "ExecuteTime": {
     "end_time": "2018-03-28T10:36:21.415120Z",
     "start_time": "2018-03-28T10:36:19.329437Z"
    }
   },
   "outputs": [
    {
     "name": "stdout",
     "output_type": "stream",
     "text": [
      "The shape of training_set:  (478111, 26)\n",
      "The shape of testing_set:  (18371, 25)\n"
     ]
    }
   ],
   "source": [
    "df_train = df_train.drop_duplicates()\n",
    "df_test = df_test.drop_duplicates()\n",
    "df_train.set_index('instance_id',inplace = True)\n",
    "df_test.set_index('instance_id',inplace = True)\n",
    "\n",
    "print(\"The shape of training_set: \", df_train.shape)\n",
    "print(\"The shape of testing_set: \", df_test.shape)"
   ]
  },
  {
   "cell_type": "markdown",
   "metadata": {},
   "source": [
    "# Data Cleaning\n",
    "\n",
    "1. 將無關的feature捨去\n",
    "2. 格式化feature\n",
    "3. 處理missing value\n",
    "4. Check features data type in Pandas"
   ]
  },
  {
   "cell_type": "markdown",
   "metadata": {},
   "source": [
    "## Drop irrelevant features\n",
    "目前考量到`item_property_list`以及`predict_category_property`兩個feature中的值比較難做處理，很難在training時有顯著性，暫時先drop這兩個features。另外，`context_id`和`instance_id`都為唯一id，也將`context_id` drop掉。"
   ]
  },
  {
   "cell_type": "code",
   "execution_count": 4,
   "metadata": {
    "ExecuteTime": {
     "end_time": "2018-03-28T10:36:21.570165Z",
     "start_time": "2018-03-28T10:36:21.419573Z"
    },
    "collapsed": true,
    "scrolled": true
   },
   "outputs": [],
   "source": [
    "df_train = df_train.drop(['item_property_list', 'predict_category_property', 'context_id'], axis=1)\n",
    "df_test = df_test.drop(['item_property_list', 'predict_category_property', 'context_id'], axis=1)"
   ]
  },
  {
   "cell_type": "markdown",
   "metadata": {},
   "source": [
    "## Re-formatted features\n",
    "* item_category_list\n",
    "* context_timestamp"
   ]
  },
  {
   "cell_type": "code",
   "execution_count": 5,
   "metadata": {
    "ExecuteTime": {
     "end_time": "2018-03-28T10:36:21.594711Z",
     "start_time": "2018-03-28T10:36:21.575545Z"
    },
    "collapsed": true
   },
   "outputs": [],
   "source": [
    "def formatted_features(df):\n",
    "    df['cate0'] = df['item_category_list'].apply(lambda x: x.split(';')[0])\n",
    "    df['cate1'] = df['item_category_list'].apply(lambda x: x.split(';')[1])\n",
    "    df['item_category_list'] = df['cate1']\n",
    "    df = df.drop(['cate0', 'cate1'], axis=1)\n",
    "    df['context_timestamp'] = df['context_timestamp'].apply(lambda x: datetime.utcfromtimestamp(x).replace(tzinfo=tz.tzutc()).astimezone(tz.tzlocal()))\n",
    "    df['context_timestamp_date'] = df['context_timestamp'].apply(lambda x : x.date()).astype('str')\n",
    "    df['context_timestamp_hour'] = df['context_timestamp'].apply(lambda x : x.hour)\n",
    "    df['context_timestamp_weekday'] = df['context_timestamp'].apply(lambda x : x.ctime()).apply(lambda x : x.split(\" \")[0])\n",
    "    df = df.drop(['context_timestamp'], axis=1)\n",
    "    return df"
   ]
  },
  {
   "cell_type": "code",
   "execution_count": 6,
   "metadata": {
    "ExecuteTime": {
     "end_time": "2018-03-28T10:36:55.643312Z",
     "start_time": "2018-03-28T10:36:21.599125Z"
    },
    "collapsed": true
   },
   "outputs": [],
   "source": [
    "df_train = formatted_features(df_train)\n",
    "df_test = formatted_features(df_test)"
   ]
  },
  {
   "cell_type": "markdown",
   "metadata": {},
   "source": [
    "## Missing Value\n",
    "原先使用捨棄有NA的樣本，但考量到test set也有NA樣本，所以暫時用NAN處理"
   ]
  },
  {
   "cell_type": "code",
   "execution_count": 7,
   "metadata": {
    "ExecuteTime": {
     "end_time": "2018-03-28T10:36:57.741145Z",
     "start_time": "2018-03-28T10:36:55.651285Z"
    }
   },
   "outputs": [
    {
     "data": {
      "text/plain": [
       "item_id                          0\n",
       "item_category_list               0\n",
       "item_brand_id                  473\n",
       "item_city_id                   277\n",
       "item_price_level                 0\n",
       "item_sales_level               913\n",
       "item_collected_level             0\n",
       "item_pv_level                    0\n",
       "user_id                          0\n",
       "user_gender_id               12902\n",
       "user_age_level                 964\n",
       "user_occupation_id             964\n",
       "user_star_level                964\n",
       "context_page_id                  0\n",
       "shop_id                          0\n",
       "shop_review_num_level            0\n",
       "shop_review_positive_rate        7\n",
       "shop_star_level                  0\n",
       "shop_score_service              59\n",
       "shop_score_delivery             59\n",
       "shop_score_description          59\n",
       "is_trade                         0\n",
       "context_timestamp_date           0\n",
       "context_timestamp_hour           0\n",
       "context_timestamp_weekday        0\n",
       "dtype: int64"
      ]
     },
     "execution_count": 7,
     "metadata": {},
     "output_type": "execute_result"
    }
   ],
   "source": [
    "df_train[df_train.isin([-1])].count()"
   ]
  },
  {
   "cell_type": "code",
   "execution_count": 8,
   "metadata": {
    "ExecuteTime": {
     "end_time": "2018-03-28T10:36:57.922646Z",
     "start_time": "2018-03-28T10:36:57.746868Z"
    }
   },
   "outputs": [
    {
     "data": {
      "text/plain": [
       "item_id                        0\n",
       "item_category_list             0\n",
       "item_brand_id                 18\n",
       "item_city_id                   6\n",
       "item_price_level               0\n",
       "item_sales_level              35\n",
       "item_collected_level           0\n",
       "item_pv_level                  0\n",
       "user_id                        0\n",
       "user_gender_id               469\n",
       "user_age_level                18\n",
       "user_occupation_id            18\n",
       "user_star_level               18\n",
       "context_page_id                0\n",
       "shop_id                        0\n",
       "shop_review_num_level          0\n",
       "shop_review_positive_rate      0\n",
       "shop_star_level                0\n",
       "shop_score_service             1\n",
       "shop_score_delivery            1\n",
       "shop_score_description         1\n",
       "context_timestamp_date         0\n",
       "context_timestamp_hour         0\n",
       "context_timestamp_weekday      0\n",
       "dtype: int64"
      ]
     },
     "execution_count": 8,
     "metadata": {},
     "output_type": "execute_result"
    }
   ],
   "source": [
    "df_test[df_test.isin([-1])].count()"
   ]
  },
  {
   "cell_type": "code",
   "execution_count": 9,
   "metadata": {
    "ExecuteTime": {
     "end_time": "2018-03-28T10:36:57.948629Z",
     "start_time": "2018-03-28T10:36:57.925836Z"
    },
    "scrolled": true
   },
   "outputs": [
    {
     "data": {
      "text/plain": [
       " 0    0.754630\n",
       " 1    0.196739\n",
       "-1    0.026985\n",
       " 2    0.021646\n",
       "Name: user_gender_id, dtype: float64"
      ]
     },
     "execution_count": 9,
     "metadata": {},
     "output_type": "execute_result"
    }
   ],
   "source": [
    "df_train.user_gender_id.value_counts(normalize=True)"
   ]
  },
  {
   "cell_type": "code",
   "execution_count": 10,
   "metadata": {
    "ExecuteTime": {
     "end_time": "2018-03-28T10:36:57.967450Z",
     "start_time": "2018-03-28T10:36:57.953348Z"
    },
    "scrolled": true
   },
   "outputs": [
    {
     "data": {
      "text/plain": [
       " 0    0.749878\n",
       " 1    0.202711\n",
       "-1    0.025529\n",
       " 2    0.021882\n",
       "Name: user_gender_id, dtype: float64"
      ]
     },
     "execution_count": 10,
     "metadata": {},
     "output_type": "execute_result"
    }
   ],
   "source": [
    "df_test.user_gender_id.value_counts(normalize=True)"
   ]
  },
  {
   "cell_type": "code",
   "execution_count": 11,
   "metadata": {
    "ExecuteTime": {
     "end_time": "2018-03-28T10:36:58.374458Z",
     "start_time": "2018-03-28T10:36:57.972331Z"
    },
    "collapsed": true
   },
   "outputs": [],
   "source": [
    "df_train.replace(-1, np.nan, inplace=True)\n",
    "df_test.replace(-1, np.nan, inplace=True)"
   ]
  },
  {
   "cell_type": "markdown",
   "metadata": {},
   "source": [
    "## Data Types in Pandas"
   ]
  },
  {
   "cell_type": "code",
   "execution_count": 12,
   "metadata": {
    "ExecuteTime": {
     "end_time": "2018-03-28T10:36:58.414019Z",
     "start_time": "2018-03-28T10:36:58.377841Z"
    },
    "scrolled": true
   },
   "outputs": [
    {
     "name": "stdout",
     "output_type": "stream",
     "text": [
      "item_id: int64\n",
      "item_category_list: object\n",
      "item_brand_id: float64\n",
      "item_city_id: float64\n",
      "item_price_level: int64\n",
      "item_sales_level: float64\n",
      "item_collected_level: int64\n",
      "item_pv_level: int64\n",
      "user_id: int64\n",
      "user_gender_id: float64\n",
      "user_age_level: float64\n",
      "user_occupation_id: float64\n",
      "user_star_level: float64\n",
      "context_page_id: int64\n",
      "shop_id: int64\n",
      "shop_review_num_level: int64\n",
      "shop_review_positive_rate: float64\n",
      "shop_star_level: int64\n",
      "shop_score_service: float64\n",
      "shop_score_delivery: float64\n",
      "shop_score_description: float64\n",
      "is_trade: int64\n",
      "context_timestamp_date: object\n",
      "context_timestamp_hour: int64\n",
      "context_timestamp_weekday: object\n"
     ]
    }
   ],
   "source": [
    "for col in list(df_train.columns):\n",
    "    print(col + \": \" + str(df_train[col].dtype))"
   ]
  },
  {
   "cell_type": "code",
   "execution_count": 13,
   "metadata": {
    "ExecuteTime": {
     "end_time": "2018-03-28T10:36:59.004183Z",
     "start_time": "2018-03-28T10:36:58.418030Z"
    },
    "collapsed": true
   },
   "outputs": [],
   "source": [
    "df_train.item_id = df_train.item_id.astype('int64')\n",
    "df_train.item_category_list = df_train.item_category_list.astype('int64')\n",
    "#df_train.item_brand_id = df_train.item_brand_id.astype('int64')\n",
    "#df_train.item_city_id = df_train.item_city_id.astype('int64')\n",
    "df_train.item_price_level = df_train.item_price_level.astype('int64')\n",
    "#df_train.item_sales_level = df_train.item_sales_level.astype('int64')\n",
    "df_train.item_collected_level = df_train.item_collected_level.astype('int64')\n",
    "df_train.item_pv_level = df_train.item_pv_level.astype('int64')\n",
    "df_train.user_id = df_train.user_id.astype('int64')\n",
    "#df_train.user_gender_id = df_train.user_gender_id.astype('int64')\n",
    "#df_train.user_age_level = df_train.user_age_level.astype('int64')\n",
    "#df_train.user_occupation_id = df_train.user_occupation_id.astype('int64')\n",
    "#df_train.user_star_level = df_train.user_star_level.astype('int64')\n",
    "df_train.context_page_id = df_train.context_page_id.astype('int64')\n",
    "df_train.shop_id = df_train.shop_id.astype('int64')\n",
    "df_train.shop_review_num_level = df_train.shop_review_num_level.astype('int64')\n",
    "df_train.shop_review_positive_rate = df_train.shop_review_positive_rate.astype('float64')\n",
    "df_train.shop_star_level = df_train.shop_star_level.astype('int64')\n",
    "df_train.shop_score_service = df_train.shop_score_service.astype('float64')\n",
    "df_train.shop_score_delivery = df_train.shop_score_delivery.astype('float64')\n",
    "df_train.shop_score_description = df_train.shop_score_description.astype('float64')\n",
    "df_train.is_trade = df_train.is_trade.astype('int64')\n",
    "df_train.context_timestamp_date = df_train.context_timestamp_date.astype('datetime64[ns]')\n",
    "df_train.context_timestamp_hour = df_train.context_timestamp_hour.astype('int64')\n",
    "df_train.context_timestamp_weekday = df_train.context_timestamp_weekday.astype('object')"
   ]
  },
  {
   "cell_type": "code",
   "execution_count": 14,
   "metadata": {
    "ExecuteTime": {
     "end_time": "2018-03-28T10:36:59.057029Z",
     "start_time": "2018-03-28T10:36:59.007625Z"
    },
    "collapsed": true
   },
   "outputs": [],
   "source": [
    "df_test.item_id = df_test.item_id.astype('int64')\n",
    "df_test.item_category_list = df_test.item_category_list.astype('int64')\n",
    "#df_test.item_brand_id = df_test.item_brand_id.astype('int64')\n",
    "#df_test.item_city_id = df_test.item_city_id.astype('int64')\n",
    "df_test.item_price_level = df_test.item_price_level.astype('int64')\n",
    "#df_test.item_sales_level = df_test.item_sales_level.astype('int64')\n",
    "df_test.item_collected_level = df_test.item_collected_level.astype('int64')\n",
    "df_test.item_pv_level = df_test.item_pv_level.astype('int64')\n",
    "df_test.user_id = df_test.user_id.astype('int64')\n",
    "#df_test.user_gender_id = df_test.user_gender_id.astype('int64')\n",
    "#df_test.user_age_level = df_test.user_age_level.astype('int64')\n",
    "#df_test.user_occupation_id = df_test.user_occupation_id.astype('int64')\n",
    "#df_test.user_star_level = df_test.user_star_level.astype('int64')\n",
    "df_test.context_page_id = df_test.context_page_id.astype('int64')\n",
    "df_test.shop_id = df_test.shop_id.astype('int64')\n",
    "df_test.shop_review_num_level = df_test.shop_review_num_level.astype('int64')\n",
    "df_test.shop_review_positive_rate = df_test.shop_review_positive_rate.astype('float64')\n",
    "df_test.shop_star_level = df_test.shop_star_level.astype('int64')\n",
    "df_test.shop_score_service = df_test.shop_score_service.astype('float64')\n",
    "df_test.shop_score_delivery = df_test.shop_score_delivery.astype('float64')\n",
    "df_test.shop_score_description = df_test.shop_score_description.astype('float64')\n",
    "#df_test.is_trade = df_test.is_trade.astype('int64')\n",
    "df_test.context_timestamp_date = df_test.context_timestamp_date.astype('datetime64[ns]')\n",
    "df_test.context_timestamp_hour = df_test.context_timestamp_hour.astype('int64')\n",
    "df_test.context_timestamp_weekday = df_test.context_timestamp_weekday.astype('object')"
   ]
  },
  {
   "cell_type": "markdown",
   "metadata": {},
   "source": [
    "# Categorical vairable\n",
    "有相當多問題要去釐清，由於categorical data在很多機器學習的方法當中需要轉換成One-hot encoding，導致類別多的categorical feature會轉換成sparse matrix。尤其在`id`這個欄位經常發生這個問題。\n",
    "\n",
    "問題需要澄清：\n",
    "1. One-hot encoding使用時機\n",
    "2. Label encoding使用時機\n",
    "3. 使用sklearn的One-hot encoding其不便性: 難追蹤回原feature\n",
    "4. On-line分析如何解決training set和test set (online, unknown) categorical不一致問題"
   ]
  },
  {
   "cell_type": "markdown",
   "metadata": {},
   "source": [
    "共有11個categorical vaiable的feature"
   ]
  },
  {
   "cell_type": "code",
   "execution_count": 15,
   "metadata": {
    "ExecuteTime": {
     "end_time": "2018-03-28T10:36:59.076053Z",
     "start_time": "2018-03-28T10:36:59.062949Z"
    },
    "collapsed": true
   },
   "outputs": [],
   "source": [
    "fs_cg = ['item_id', \n",
    "         'user_id', \n",
    "         'shop_id', \n",
    "         'item_category_list', \n",
    "         'item_brand_id', \n",
    "         'item_city_id',  \n",
    "         'user_gender_id', \n",
    "         'user_occupation_id', \n",
    "         'context_page_id', \n",
    "         'context_timestamp_hour', \n",
    "         'context_timestamp_weekday']\n",
    "\n",
    "fs_cg_ohec = [#'item_id',\n",
    "              #'shop_id',\n",
    "              #'user_id',\n",
    "              'item_category_list',\n",
    "              #'item_brand_id',\n",
    "              'item_city_id',\n",
    "              'user_gender_id',\n",
    "              'user_occupation_id',\n",
    "              'context_page_id']\n",
    "\n",
    "fs_cg_labelec = ['context_timestamp_hour',\n",
    "                 'context_timestamp_weekday']\n",
    "\n",
    "fs_cg_drop = ['item_id',\n",
    "              'shop_id',\n",
    "              'user_id']"
   ]
  },
  {
   "cell_type": "code",
   "execution_count": 16,
   "metadata": {
    "ExecuteTime": {
     "end_time": "2018-03-28T10:36:59.207845Z",
     "start_time": "2018-03-28T10:36:59.080168Z"
    },
    "scrolled": false
   },
   "outputs": [
    {
     "name": "stdout",
     "output_type": "stream",
     "text": [
      "Number of unique category (training/test)\n",
      "item_id: 10075 / 3695\n",
      "user_id: 197694 / 13573\n",
      "shop_id: 3959 / 2015\n",
      "item_category_list: 13 / 13\n",
      "item_brand_id: 2055 / 1101\n",
      "item_city_id: 128 / 99\n",
      "user_gender_id: 4 / 4\n",
      "user_occupation_id: 5 / 5\n",
      "context_page_id: 20 / 20\n",
      "context_timestamp_hour: 24 / 24\n",
      "context_timestamp_weekday: 7 / 1\n"
     ]
    }
   ],
   "source": [
    "print('Number of unique category (training/test)')\n",
    "for col in fs_cg:\n",
    "    print(col + \": \" + str(len(df_train[col].unique())) + \" / \" + str(len(df_test[col].unique())))"
   ]
  },
  {
   "cell_type": "markdown",
   "metadata": {},
   "source": [
    "## Categorical variable encoding"
   ]
  },
  {
   "cell_type": "markdown",
   "metadata": {},
   "source": [
    "採用`pandas`的作法而非`sklearn`的做法，方便做feature importance的比較"
   ]
  },
  {
   "cell_type": "code",
   "execution_count": 17,
   "metadata": {
    "ExecuteTime": {
     "end_time": "2018-03-28T10:36:59.484824Z",
     "start_time": "2018-03-28T10:36:59.212795Z"
    },
    "collapsed": true
   },
   "outputs": [],
   "source": [
    "df_tmp = pd.concat([df_train, df_test], axis=0)"
   ]
  },
  {
   "cell_type": "markdown",
   "metadata": {},
   "source": [
    "### Label encoding"
   ]
  },
  {
   "cell_type": "code",
   "execution_count": 18,
   "metadata": {
    "ExecuteTime": {
     "end_time": "2018-03-28T10:36:59.910570Z",
     "start_time": "2018-03-28T10:36:59.491864Z"
    },
    "collapsed": true
   },
   "outputs": [],
   "source": [
    "for col in fs_cg:\n",
    "    df_tmp[col] = pd.Categorical(df_tmp[col]).codes"
   ]
  },
  {
   "cell_type": "markdown",
   "metadata": {},
   "source": [
    "### One-hot encoding"
   ]
  },
  {
   "cell_type": "code",
   "execution_count": 19,
   "metadata": {
    "ExecuteTime": {
     "end_time": "2018-03-28T10:37:00.865241Z",
     "start_time": "2018-03-28T10:36:59.915101Z"
    },
    "collapsed": true
   },
   "outputs": [],
   "source": [
    "df_tmp = pd.get_dummies(df_tmp, columns=fs_cg_ohec)"
   ]
  },
  {
   "cell_type": "code",
   "execution_count": 20,
   "metadata": {
    "ExecuteTime": {
     "end_time": "2018-03-28T10:37:00.876087Z",
     "start_time": "2018-03-28T10:37:00.868600Z"
    }
   },
   "outputs": [
    {
     "data": {
      "text/plain": [
       "(496482, 190)"
      ]
     },
     "execution_count": 20,
     "metadata": {},
     "output_type": "execute_result"
    }
   ],
   "source": [
    "df_tmp.shape"
   ]
  },
  {
   "cell_type": "markdown",
   "metadata": {},
   "source": [
    "Drop 不處理的 feature"
   ]
  },
  {
   "cell_type": "code",
   "execution_count": 21,
   "metadata": {
    "ExecuteTime": {
     "end_time": "2018-03-28T10:37:01.422138Z",
     "start_time": "2018-03-28T10:37:00.898130Z"
    },
    "collapsed": true
   },
   "outputs": [],
   "source": [
    "df_tmp = df_tmp.drop(fs_cg_drop, axis=1)"
   ]
  },
  {
   "cell_type": "code",
   "execution_count": 22,
   "metadata": {
    "ExecuteTime": {
     "end_time": "2018-03-28T10:37:01.485715Z",
     "start_time": "2018-03-28T10:37:01.425476Z"
    },
    "collapsed": true
   },
   "outputs": [],
   "source": [
    "df_train = df_tmp[:df_train.shape[0]]\n",
    "df_test = df_tmp[df_train.shape[0]:]"
   ]
  },
  {
   "cell_type": "code",
   "execution_count": 23,
   "metadata": {
    "ExecuteTime": {
     "end_time": "2018-03-28T10:37:01.499948Z",
     "start_time": "2018-03-28T10:37:01.490289Z"
    }
   },
   "outputs": [
    {
     "name": "stdout",
     "output_type": "stream",
     "text": [
      "(478111, 187)\n",
      "(18371, 187)\n"
     ]
    }
   ],
   "source": [
    "print(df_train.shape)\n",
    "print(df_test.shape)"
   ]
  },
  {
   "cell_type": "markdown",
   "metadata": {},
   "source": [
    "# Numerical variable\n",
    "共有12個numerical variable"
   ]
  },
  {
   "cell_type": "code",
   "execution_count": 24,
   "metadata": {
    "ExecuteTime": {
     "end_time": "2018-03-28T10:37:01.527808Z",
     "start_time": "2018-03-28T10:37:01.505367Z"
    },
    "collapsed": true
   },
   "outputs": [],
   "source": [
    "fs_num = ['item_price_level', \n",
    "          'item_sales_level', \n",
    "          'item_collected_level', \n",
    "          'item_pv_level', \n",
    "          'user_age_level', \n",
    "          'user_star_level', \n",
    "          'shop_review_num_level', \n",
    "          'shop_review_positive_rate', \n",
    "          'shop_star_level', \n",
    "          'shop_score_service', \n",
    "          'shop_score_delivery', \n",
    "          'shop_score_description']\n",
    "\n",
    "fs_num_labelec = ['user_age_level',\n",
    "                  'user_star_level',\n",
    "                  'shop_star_level']"
   ]
  },
  {
   "cell_type": "code",
   "execution_count": 25,
   "metadata": {
    "ExecuteTime": {
     "end_time": "2018-03-28T10:37:01.843376Z",
     "start_time": "2018-03-28T10:37:01.542246Z"
    },
    "collapsed": true
   },
   "outputs": [],
   "source": [
    "df_tmp = pd.concat([df_train, df_test], axis=0)"
   ]
  },
  {
   "cell_type": "code",
   "execution_count": 26,
   "metadata": {
    "ExecuteTime": {
     "end_time": "2018-03-28T10:37:01.924939Z",
     "start_time": "2018-03-28T10:37:01.848865Z"
    },
    "collapsed": true
   },
   "outputs": [],
   "source": [
    "for col in fs_num_labelec:\n",
    "    df_tmp[col] = pd.Categorical(df_tmp[col]).codes"
   ]
  },
  {
   "cell_type": "code",
   "execution_count": 27,
   "metadata": {
    "ExecuteTime": {
     "end_time": "2018-03-28T10:37:02.047920Z",
     "start_time": "2018-03-28T10:37:01.936094Z"
    },
    "collapsed": true
   },
   "outputs": [],
   "source": [
    "df_train = df_tmp[:df_train.shape[0]]\n",
    "df_test = df_tmp[df_train.shape[0]:]"
   ]
  },
  {
   "cell_type": "code",
   "execution_count": 28,
   "metadata": {
    "ExecuteTime": {
     "end_time": "2018-03-28T10:37:02.738614Z",
     "start_time": "2018-03-28T10:37:02.051787Z"
    },
    "scrolled": true
   },
   "outputs": [
    {
     "data": {
      "text/html": [
       "<div>\n",
       "<style scoped>\n",
       "    .dataframe tbody tr th:only-of-type {\n",
       "        vertical-align: middle;\n",
       "    }\n",
       "\n",
       "    .dataframe tbody tr th {\n",
       "        vertical-align: top;\n",
       "    }\n",
       "\n",
       "    .dataframe thead th {\n",
       "        text-align: right;\n",
       "    }\n",
       "</style>\n",
       "<table border=\"1\" class=\"dataframe\">\n",
       "  <thead>\n",
       "    <tr style=\"text-align: right;\">\n",
       "      <th></th>\n",
       "      <th>item_price_level</th>\n",
       "      <th>item_sales_level</th>\n",
       "      <th>item_collected_level</th>\n",
       "      <th>item_pv_level</th>\n",
       "      <th>user_age_level</th>\n",
       "      <th>user_star_level</th>\n",
       "      <th>shop_review_num_level</th>\n",
       "      <th>shop_review_positive_rate</th>\n",
       "      <th>shop_star_level</th>\n",
       "      <th>shop_score_service</th>\n",
       "      <th>shop_score_delivery</th>\n",
       "      <th>shop_score_description</th>\n",
       "    </tr>\n",
       "  </thead>\n",
       "  <tbody>\n",
       "    <tr>\n",
       "      <th>count</th>\n",
       "      <td>478111.000000</td>\n",
       "      <td>477198.000000</td>\n",
       "      <td>478111.000000</td>\n",
       "      <td>478111.000000</td>\n",
       "      <td>478111.000000</td>\n",
       "      <td>478111.000000</td>\n",
       "      <td>478111.000000</td>\n",
       "      <td>478104.000000</td>\n",
       "      <td>478111.000000</td>\n",
       "      <td>478052.000000</td>\n",
       "      <td>478052.000000</td>\n",
       "      <td>478052.000000</td>\n",
       "    </tr>\n",
       "    <tr>\n",
       "      <th>mean</th>\n",
       "      <td>6.777242</td>\n",
       "      <td>11.156956</td>\n",
       "      <td>12.199288</td>\n",
       "      <td>17.128648</td>\n",
       "      <td>3.470550</td>\n",
       "      <td>4.220208</td>\n",
       "      <td>15.768296</td>\n",
       "      <td>0.994859</td>\n",
       "      <td>14.175187</td>\n",
       "      <td>0.971367</td>\n",
       "      <td>0.970740</td>\n",
       "      <td>0.975107</td>\n",
       "    </tr>\n",
       "    <tr>\n",
       "      <th>std</th>\n",
       "      <td>1.088979</td>\n",
       "      <td>2.536313</td>\n",
       "      <td>2.497317</td>\n",
       "      <td>2.160771</td>\n",
       "      <td>1.317455</td>\n",
       "      <td>2.198088</td>\n",
       "      <td>2.825281</td>\n",
       "      <td>0.009223</td>\n",
       "      <td>2.590979</td>\n",
       "      <td>0.009369</td>\n",
       "      <td>0.009281</td>\n",
       "      <td>0.012038</td>\n",
       "    </tr>\n",
       "    <tr>\n",
       "      <th>min</th>\n",
       "      <td>0.000000</td>\n",
       "      <td>1.000000</td>\n",
       "      <td>0.000000</td>\n",
       "      <td>0.000000</td>\n",
       "      <td>-1.000000</td>\n",
       "      <td>-1.000000</td>\n",
       "      <td>0.000000</td>\n",
       "      <td>0.714286</td>\n",
       "      <td>0.000000</td>\n",
       "      <td>0.786667</td>\n",
       "      <td>0.830000</td>\n",
       "      <td>0.786667</td>\n",
       "    </tr>\n",
       "    <tr>\n",
       "      <th>25%</th>\n",
       "      <td>6.000000</td>\n",
       "      <td>10.000000</td>\n",
       "      <td>11.000000</td>\n",
       "      <td>16.000000</td>\n",
       "      <td>3.000000</td>\n",
       "      <td>3.000000</td>\n",
       "      <td>14.000000</td>\n",
       "      <td>0.992779</td>\n",
       "      <td>13.000000</td>\n",
       "      <td>0.966363</td>\n",
       "      <td>0.965684</td>\n",
       "      <td>0.969280</td>\n",
       "    </tr>\n",
       "    <tr>\n",
       "      <th>50%</th>\n",
       "      <td>7.000000</td>\n",
       "      <td>11.000000</td>\n",
       "      <td>12.000000</td>\n",
       "      <td>17.000000</td>\n",
       "      <td>3.000000</td>\n",
       "      <td>4.000000</td>\n",
       "      <td>16.000000</td>\n",
       "      <td>1.000000</td>\n",
       "      <td>14.000000</td>\n",
       "      <td>0.972347</td>\n",
       "      <td>0.971592</td>\n",
       "      <td>0.978493</td>\n",
       "    </tr>\n",
       "    <tr>\n",
       "      <th>75%</th>\n",
       "      <td>8.000000</td>\n",
       "      <td>13.000000</td>\n",
       "      <td>14.000000</td>\n",
       "      <td>19.000000</td>\n",
       "      <td>4.000000</td>\n",
       "      <td>6.000000</td>\n",
       "      <td>17.000000</td>\n",
       "      <td>1.000000</td>\n",
       "      <td>16.000000</td>\n",
       "      <td>0.977822</td>\n",
       "      <td>0.976978</td>\n",
       "      <td>0.983640</td>\n",
       "    </tr>\n",
       "    <tr>\n",
       "      <th>max</th>\n",
       "      <td>17.000000</td>\n",
       "      <td>17.000000</td>\n",
       "      <td>17.000000</td>\n",
       "      <td>21.000000</td>\n",
       "      <td>7.000000</td>\n",
       "      <td>10.000000</td>\n",
       "      <td>25.000000</td>\n",
       "      <td>1.000000</td>\n",
       "      <td>21.000000</td>\n",
       "      <td>1.000000</td>\n",
       "      <td>1.000000</td>\n",
       "      <td>1.000000</td>\n",
       "    </tr>\n",
       "  </tbody>\n",
       "</table>\n",
       "</div>"
      ],
      "text/plain": [
       "       item_price_level  item_sales_level  item_collected_level  \\\n",
       "count     478111.000000     477198.000000         478111.000000   \n",
       "mean           6.777242         11.156956             12.199288   \n",
       "std            1.088979          2.536313              2.497317   \n",
       "min            0.000000          1.000000              0.000000   \n",
       "25%            6.000000         10.000000             11.000000   \n",
       "50%            7.000000         11.000000             12.000000   \n",
       "75%            8.000000         13.000000             14.000000   \n",
       "max           17.000000         17.000000             17.000000   \n",
       "\n",
       "       item_pv_level  user_age_level  user_star_level  shop_review_num_level  \\\n",
       "count  478111.000000   478111.000000    478111.000000          478111.000000   \n",
       "mean       17.128648        3.470550         4.220208              15.768296   \n",
       "std         2.160771        1.317455         2.198088               2.825281   \n",
       "min         0.000000       -1.000000        -1.000000               0.000000   \n",
       "25%        16.000000        3.000000         3.000000              14.000000   \n",
       "50%        17.000000        3.000000         4.000000              16.000000   \n",
       "75%        19.000000        4.000000         6.000000              17.000000   \n",
       "max        21.000000        7.000000        10.000000              25.000000   \n",
       "\n",
       "       shop_review_positive_rate  shop_star_level  shop_score_service  \\\n",
       "count              478104.000000    478111.000000       478052.000000   \n",
       "mean                    0.994859        14.175187            0.971367   \n",
       "std                     0.009223         2.590979            0.009369   \n",
       "min                     0.714286         0.000000            0.786667   \n",
       "25%                     0.992779        13.000000            0.966363   \n",
       "50%                     1.000000        14.000000            0.972347   \n",
       "75%                     1.000000        16.000000            0.977822   \n",
       "max                     1.000000        21.000000            1.000000   \n",
       "\n",
       "       shop_score_delivery  shop_score_description  \n",
       "count        478052.000000           478052.000000  \n",
       "mean              0.970740                0.975107  \n",
       "std               0.009281                0.012038  \n",
       "min               0.830000                0.786667  \n",
       "25%               0.965684                0.969280  \n",
       "50%               0.971592                0.978493  \n",
       "75%               0.976978                0.983640  \n",
       "max               1.000000                1.000000  "
      ]
     },
     "execution_count": 28,
     "metadata": {},
     "output_type": "execute_result"
    }
   ],
   "source": [
    "df_train[fs_num].describe()"
   ]
  },
  {
   "cell_type": "code",
   "execution_count": 29,
   "metadata": {
    "ExecuteTime": {
     "end_time": "2018-03-28T10:37:02.850147Z",
     "start_time": "2018-03-28T10:37:02.742371Z"
    }
   },
   "outputs": [
    {
     "data": {
      "text/html": [
       "<div>\n",
       "<style scoped>\n",
       "    .dataframe tbody tr th:only-of-type {\n",
       "        vertical-align: middle;\n",
       "    }\n",
       "\n",
       "    .dataframe tbody tr th {\n",
       "        vertical-align: top;\n",
       "    }\n",
       "\n",
       "    .dataframe thead th {\n",
       "        text-align: right;\n",
       "    }\n",
       "</style>\n",
       "<table border=\"1\" class=\"dataframe\">\n",
       "  <thead>\n",
       "    <tr style=\"text-align: right;\">\n",
       "      <th></th>\n",
       "      <th>item_price_level</th>\n",
       "      <th>item_sales_level</th>\n",
       "      <th>item_collected_level</th>\n",
       "      <th>item_pv_level</th>\n",
       "      <th>user_age_level</th>\n",
       "      <th>user_star_level</th>\n",
       "      <th>shop_review_num_level</th>\n",
       "      <th>shop_review_positive_rate</th>\n",
       "      <th>shop_star_level</th>\n",
       "      <th>shop_score_service</th>\n",
       "      <th>shop_score_delivery</th>\n",
       "      <th>shop_score_description</th>\n",
       "    </tr>\n",
       "  </thead>\n",
       "  <tbody>\n",
       "    <tr>\n",
       "      <th>count</th>\n",
       "      <td>18371.000000</td>\n",
       "      <td>18336.000000</td>\n",
       "      <td>18371.000000</td>\n",
       "      <td>18371.000000</td>\n",
       "      <td>18371.000000</td>\n",
       "      <td>18371.000000</td>\n",
       "      <td>18371.000000</td>\n",
       "      <td>18371.000000</td>\n",
       "      <td>18371.000000</td>\n",
       "      <td>18370.000000</td>\n",
       "      <td>18370.000000</td>\n",
       "      <td>18370.000000</td>\n",
       "    </tr>\n",
       "    <tr>\n",
       "      <th>mean</th>\n",
       "      <td>6.837951</td>\n",
       "      <td>11.132308</td>\n",
       "      <td>12.228621</td>\n",
       "      <td>17.035382</td>\n",
       "      <td>3.464754</td>\n",
       "      <td>4.232432</td>\n",
       "      <td>15.816123</td>\n",
       "      <td>0.994915</td>\n",
       "      <td>14.228948</td>\n",
       "      <td>0.971429</td>\n",
       "      <td>0.970566</td>\n",
       "      <td>0.975148</td>\n",
       "    </tr>\n",
       "    <tr>\n",
       "      <th>std</th>\n",
       "      <td>1.046772</td>\n",
       "      <td>2.616461</td>\n",
       "      <td>2.549283</td>\n",
       "      <td>2.237930</td>\n",
       "      <td>1.304611</td>\n",
       "      <td>2.195352</td>\n",
       "      <td>2.879969</td>\n",
       "      <td>0.008981</td>\n",
       "      <td>2.646194</td>\n",
       "      <td>0.009299</td>\n",
       "      <td>0.009288</td>\n",
       "      <td>0.011928</td>\n",
       "    </tr>\n",
       "    <tr>\n",
       "      <th>min</th>\n",
       "      <td>1.000000</td>\n",
       "      <td>1.000000</td>\n",
       "      <td>0.000000</td>\n",
       "      <td>0.000000</td>\n",
       "      <td>-1.000000</td>\n",
       "      <td>-1.000000</td>\n",
       "      <td>1.000000</td>\n",
       "      <td>0.870588</td>\n",
       "      <td>1.000000</td>\n",
       "      <td>0.900728</td>\n",
       "      <td>0.896471</td>\n",
       "      <td>0.858856</td>\n",
       "    </tr>\n",
       "    <tr>\n",
       "      <th>25%</th>\n",
       "      <td>6.000000</td>\n",
       "      <td>10.000000</td>\n",
       "      <td>11.000000</td>\n",
       "      <td>16.000000</td>\n",
       "      <td>3.000000</td>\n",
       "      <td>3.000000</td>\n",
       "      <td>14.000000</td>\n",
       "      <td>0.992824</td>\n",
       "      <td>13.000000</td>\n",
       "      <td>0.966399</td>\n",
       "      <td>0.965516</td>\n",
       "      <td>0.969490</td>\n",
       "    </tr>\n",
       "    <tr>\n",
       "      <th>50%</th>\n",
       "      <td>7.000000</td>\n",
       "      <td>11.000000</td>\n",
       "      <td>13.000000</td>\n",
       "      <td>17.000000</td>\n",
       "      <td>3.000000</td>\n",
       "      <td>4.000000</td>\n",
       "      <td>16.000000</td>\n",
       "      <td>1.000000</td>\n",
       "      <td>14.000000</td>\n",
       "      <td>0.972481</td>\n",
       "      <td>0.971511</td>\n",
       "      <td>0.978514</td>\n",
       "    </tr>\n",
       "    <tr>\n",
       "      <th>75%</th>\n",
       "      <td>8.000000</td>\n",
       "      <td>13.000000</td>\n",
       "      <td>14.000000</td>\n",
       "      <td>19.000000</td>\n",
       "      <td>4.000000</td>\n",
       "      <td>6.000000</td>\n",
       "      <td>18.000000</td>\n",
       "      <td>1.000000</td>\n",
       "      <td>16.000000</td>\n",
       "      <td>0.977937</td>\n",
       "      <td>0.976823</td>\n",
       "      <td>0.983543</td>\n",
       "    </tr>\n",
       "    <tr>\n",
       "      <th>max</th>\n",
       "      <td>10.000000</td>\n",
       "      <td>17.000000</td>\n",
       "      <td>17.000000</td>\n",
       "      <td>21.000000</td>\n",
       "      <td>7.000000</td>\n",
       "      <td>10.000000</td>\n",
       "      <td>23.000000</td>\n",
       "      <td>1.000000</td>\n",
       "      <td>21.000000</td>\n",
       "      <td>1.000000</td>\n",
       "      <td>1.000000</td>\n",
       "      <td>1.000000</td>\n",
       "    </tr>\n",
       "  </tbody>\n",
       "</table>\n",
       "</div>"
      ],
      "text/plain": [
       "       item_price_level  item_sales_level  item_collected_level  \\\n",
       "count      18371.000000      18336.000000          18371.000000   \n",
       "mean           6.837951         11.132308             12.228621   \n",
       "std            1.046772          2.616461              2.549283   \n",
       "min            1.000000          1.000000              0.000000   \n",
       "25%            6.000000         10.000000             11.000000   \n",
       "50%            7.000000         11.000000             13.000000   \n",
       "75%            8.000000         13.000000             14.000000   \n",
       "max           10.000000         17.000000             17.000000   \n",
       "\n",
       "       item_pv_level  user_age_level  user_star_level  shop_review_num_level  \\\n",
       "count   18371.000000    18371.000000     18371.000000           18371.000000   \n",
       "mean       17.035382        3.464754         4.232432              15.816123   \n",
       "std         2.237930        1.304611         2.195352               2.879969   \n",
       "min         0.000000       -1.000000        -1.000000               1.000000   \n",
       "25%        16.000000        3.000000         3.000000              14.000000   \n",
       "50%        17.000000        3.000000         4.000000              16.000000   \n",
       "75%        19.000000        4.000000         6.000000              18.000000   \n",
       "max        21.000000        7.000000        10.000000              23.000000   \n",
       "\n",
       "       shop_review_positive_rate  shop_star_level  shop_score_service  \\\n",
       "count               18371.000000     18371.000000        18370.000000   \n",
       "mean                    0.994915        14.228948            0.971429   \n",
       "std                     0.008981         2.646194            0.009299   \n",
       "min                     0.870588         1.000000            0.900728   \n",
       "25%                     0.992824        13.000000            0.966399   \n",
       "50%                     1.000000        14.000000            0.972481   \n",
       "75%                     1.000000        16.000000            0.977937   \n",
       "max                     1.000000        21.000000            1.000000   \n",
       "\n",
       "       shop_score_delivery  shop_score_description  \n",
       "count         18370.000000            18370.000000  \n",
       "mean              0.970566                0.975148  \n",
       "std               0.009288                0.011928  \n",
       "min               0.896471                0.858856  \n",
       "25%               0.965516                0.969490  \n",
       "50%               0.971511                0.978514  \n",
       "75%               0.976823                0.983543  \n",
       "max               1.000000                1.000000  "
      ]
     },
     "execution_count": 29,
     "metadata": {},
     "output_type": "execute_result"
    }
   ],
   "source": [
    "df_test[fs_num].describe()"
   ]
  },
  {
   "cell_type": "markdown",
   "metadata": {},
   "source": [
    "# Output file"
   ]
  },
  {
   "cell_type": "code",
   "execution_count": 30,
   "metadata": {
    "ExecuteTime": {
     "end_time": "2018-03-28T10:37:02.872683Z",
     "start_time": "2018-03-28T10:37:02.854462Z"
    }
   },
   "outputs": [
    {
     "name": "stdout",
     "output_type": "stream",
     "text": [
      "(478111, 187)\n",
      "(18371, 187)\n"
     ]
    }
   ],
   "source": [
    "print(df_train.shape)\n",
    "print(df_test.shape)"
   ]
  },
  {
   "cell_type": "code",
   "execution_count": 31,
   "metadata": {
    "ExecuteTime": {
     "end_time": "2018-03-28T10:37:04.017624Z",
     "start_time": "2018-03-28T10:37:02.878936Z"
    },
    "collapsed": true,
    "scrolled": true
   },
   "outputs": [],
   "source": [
    "output_train = 'Dataset/training_478111_propdrop_iddrop_onehot.pkl'\n",
    "output_test = 'Dataset/test_18371_propdrop_iddrop_onehot.pkl'\n",
    "df_train.to_pickle(output_train)\n",
    "df_test.to_pickle(output_test)\n",
    "#df_new_train = pd.read_pickle(output_train)\n",
    "#df_new_test = pd.read_pickle(output_test)"
   ]
  }
 ],
 "metadata": {
  "kernelspec": {
   "display_name": "Python 2",
   "language": "python",
   "name": "python2"
  },
  "language_info": {
   "codemirror_mode": {
    "name": "ipython",
    "version": 2
   },
   "file_extension": ".py",
   "mimetype": "text/x-python",
   "name": "python",
   "nbconvert_exporter": "python",
   "pygments_lexer": "ipython2",
   "version": "2.7.14"
  },
  "toc": {
   "colors": {
    "hover_highlight": "#DAA520",
    "navigate_num": "#000000",
    "navigate_text": "#333333",
    "running_highlight": "#FF0000",
    "selected_highlight": "#FFD700",
    "sidebar_border": "#EEEEEE",
    "wrapper_background": "#FFFFFF"
   },
   "moveMenuLeft": true,
   "nav_menu": {
    "height": "228px",
    "width": "252px"
   },
   "navigate_menu": true,
   "number_sections": true,
   "sideBar": true,
   "threshold": 4,
   "toc_cell": true,
   "toc_section_display": "block",
   "toc_window_display": true,
   "widenNotebook": false
  },
  "varInspector": {
   "cols": {
    "lenName": 16,
    "lenType": 16,
    "lenVar": 40
   },
   "kernels_config": {
    "python": {
     "delete_cmd_postfix": "",
     "delete_cmd_prefix": "del ",
     "library": "var_list.py",
     "varRefreshCmd": "print(var_dic_list())"
    },
    "r": {
     "delete_cmd_postfix": ") ",
     "delete_cmd_prefix": "rm(",
     "library": "var_list.r",
     "varRefreshCmd": "cat(var_dic_list()) "
    }
   },
   "types_to_exclude": [
    "module",
    "function",
    "builtin_function_or_method",
    "instance",
    "_Feature"
   ],
   "window_display": false
  }
 },
 "nbformat": 4,
 "nbformat_minor": 2
}
